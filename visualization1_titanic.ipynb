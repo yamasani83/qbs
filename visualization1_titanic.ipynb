{
 "cells": [
  {
   "attachments": {},
   "cell_type": "markdown",
   "metadata": {},
   "source": [
    "# Intro to Python 3: Data / Information Visualization in Python"
   ]
  },
  {
   "attachments": {},
   "cell_type": "markdown",
   "metadata": {},
   "source": [
    "*Why visualize data / information? What benefits does it offer us?*\n",
    "\n",
    "Today, we will learn how to create some basic visualizations using Python. To stoke your imagination about what is possible, first review these two **Python visualization galleries**:\n",
    "\n",
    "+ [Python Graph Gallery](https://www.python-graph-gallery.com/)\n",
    "+ [Seaborn Example Gallery](https://seaborn.pydata.org/examples/index.html)\n",
    "\n",
    "*Additional Resources*\n",
    "+ Alberto Cairo, *The Truthful Art* (my favorite book on data visualization)\n",
    "+ If you are interested in more qualitative data visualization approaches, fun examples are found in [Giorgia Lupi and Stefanie Posavec, *Dear Data*](http://www.dear-data.com/).\n",
    "+ For beautiful, artistic renderings of data visualizations, I recommend looking at [Nadieh Bremer and Shirley Wu, *Data Sketches*](https://www.datasketch.es/).\n",
    "\n",
    "...\n",
    "\n"
   ]
  },
  {
   "attachments": {},
   "cell_type": "markdown",
   "metadata": {},
   "source": [
    "## Dataset\n",
    "\n",
    "Today, we will be working with a dataset of the passengers of the Titanic. \n",
    "\n",
    "If you do a Google search for \"Titanic visualizations\" you can find examples of how other people have created visualizations of this dataset. For one example, see: https://stackabuse.com/seaborn-library-for-data-visualization-in-python-part-1/. "
   ]
  },
  {
   "attachments": {},
   "cell_type": "markdown",
   "metadata": {},
   "source": [
    "## Python Visualization Libraries / Packages\n",
    "\n",
    "+ pandas (allows some basic visualization)\n",
    "+ matplotlib\n",
    "    + [tutorials](https://matplotlib.org/stable/tutorials/index.html)\n",
    "+ seaborn\n",
    "    + [tutorials](https://seaborn.pydata.org/tutorial.html)\n",
    "    + [Elite Data Science - tutorials with Pokemon dataset](https://elitedatascience.com/python-seaborn-tutorial)\n",
    "+ bokeh (for interactive visualization)\n",
    "+ [plotly](https://plotly.com/python/) (for interactive visualization)\n",
    "    + simplified version: [plotly_express](https://plotly.com/python/plotly-express/)\n",
    "+ plotnine (an adaptation of the popular R library, ggplot)\n",
    "+ altair"
   ]
  },
  {
   "attachments": {},
   "cell_type": "markdown",
   "metadata": {},
   "source": [
    "In this lesson we will work with the two most popular data visualization libraries for Python:\n",
    "+ [matplotlib]() - the most expansive data visualization library for Python\n",
    "+ [seaborn]() - a visualization library built on top of matplotlib (so you will almost always have to import both).\n",
    "\n",
    "Let's import these packages now. "
   ]
  },
  {
   "cell_type": "code",
   "execution_count": null,
   "metadata": {},
   "outputs": [],
   "source": [
    "import pandas as pd\n",
    "#import pathlib, glob\n",
    "#from pathlib import Path\n",
    "\n",
    "import matplotlib.pyplot as plt\n",
    "import seaborn as sns\n",
    "# note, for all three of the above - pd, plt, and sns are the commonly used abbreviations for these packages used by nearly everyone who uses them"
   ]
  },
  {
   "attachments": {},
   "cell_type": "markdown",
   "metadata": {},
   "source": [
    "1. To experiment with seaborn and matplotlib, seaborn offers a set of preloaded datasets. We can view what those are with the **get_dataset_names()** function. Since this is a seaborn function we need to add **sns.** before the name of this function:\n",
    "\n",
    "```\n",
    "sns.get_dataset_names()\n",
    "```"
   ]
  },
  {
   "cell_type": "code",
   "execution_count": null,
   "metadata": {},
   "outputs": [],
   "source": []
  },
  {
   "attachments": {},
   "cell_type": "markdown",
   "metadata": {},
   "source": [
    "2. We can load these datasets using **load_dataset([name of dataset])** function (remember to precede it with \"sns.\"). Let's open the \"titanic\" dataset and preview it using the .head() method.\n",
    "\n",
    "*Note: The layout of this dataset is conducive to visualization because it is arranged as a tidy dataset, meaning (among other things), there is one observation per row. In the case of this dataset, each observation (or row) represents a passenger and each column represents different attributes about each of these passengers.*"
   ]
  },
  {
   "cell_type": "code",
   "execution_count": null,
   "metadata": {},
   "outputs": [],
   "source": [
    "titanic = sns.load_dataset('titanic')"
   ]
  },
  {
   "cell_type": "code",
   "execution_count": null,
   "metadata": {},
   "outputs": [],
   "source": [
    "titanic.head()"
   ]
  },
  {
   "attachments": {},
   "cell_type": "markdown",
   "metadata": {},
   "source": [
    "3. Seaborn makes it really easy to many different types of simple graphs from a dataframe. The common syntax is as follows:\n",
    "\n",
    "```\n",
    "sns.[type of plot]plot(data = dataset_name, x = \"[column with x values]\", y = \"[column with y values]\")\n",
    "```\n",
    "\n",
    "Often, however, there are multiple ways to create the same type of plot. For example, if you wanted to create a bar plot or graph showing the average fare (y) for passengers in each class (x) you could run the following:"
   ]
  },
  {
   "cell_type": "code",
   "execution_count": null,
   "metadata": {},
   "outputs": [],
   "source": [
    "sns.barplot(data = titanic, x = \"sex\", y = \"survived\")"
   ]
  },
  {
   "attachments": {},
   "cell_type": "markdown",
   "metadata": {},
   "source": [
    "3b. However, if you just want to create a bar plot of the total number of passengers in a given category, you would want to use countplot instead:"
   ]
  },
  {
   "cell_type": "code",
   "execution_count": null,
   "metadata": {},
   "outputs": [],
   "source": [
    "sns.countplot(data = titanic, x = \"survived\")"
   ]
  },
  {
   "attachments": {},
   "cell_type": "markdown",
   "metadata": {},
   "source": [
    "There are many other types of plots available with Seaborn. See the lefthand menu of the [Seaborn webpage](https://seaborn.pydata.org/generated/seaborn.boxplot.html) for the names of these plot types.\n",
    "\n",
    "4a. Create a **scatterplot** setting the age and fare of each passenger as your x and y variables. "
   ]
  },
  {
   "cell_type": "code",
   "execution_count": null,
   "metadata": {},
   "outputs": [],
   "source": []
  },
  {
   "attachments": {},
   "cell_type": "markdown",
   "metadata": {},
   "source": [
    "4b. Copy and paste the same code as above (4a), but this time assigning the \"survived\" column to the hue variable:"
   ]
  },
  {
   "cell_type": "code",
   "execution_count": null,
   "metadata": {},
   "outputs": [],
   "source": []
  },
  {
   "attachments": {},
   "cell_type": "markdown",
   "metadata": {},
   "source": [
    "4c. Now try choosing other categories for the hue variable. What data types should you choose for this variable: continuous numbers, ordinal numbers, or categorical data?"
   ]
  },
  {
   "attachments": {},
   "cell_type": "markdown",
   "metadata": {},
   "source": [
    "5. Create a **jointplot** setting the age and fare of each passenger as your x and y variables. What is a jointplot? Let's find out...."
   ]
  },
  {
   "cell_type": "code",
   "execution_count": null,
   "metadata": {},
   "outputs": [],
   "source": []
  },
  {
   "attachments": {},
   "cell_type": "markdown",
   "metadata": {},
   "source": [
    "5b. Use color (in this case \"hue\") to examine this same data by \"sex\", \"pclass\", and \"survived\":"
   ]
  },
  {
   "cell_type": "code",
   "execution_count": null,
   "metadata": {},
   "outputs": [],
   "source": []
  },
  {
   "cell_type": "code",
   "execution_count": null,
   "metadata": {},
   "outputs": [],
   "source": []
  },
  {
   "attachments": {},
   "cell_type": "markdown",
   "metadata": {},
   "source": [
    "6. Create a **boxplot** to identify the distribution of this data by age and passenger class."
   ]
  },
  {
   "cell_type": "code",
   "execution_count": null,
   "metadata": {},
   "outputs": [],
   "source": []
  },
  {
   "attachments": {},
   "cell_type": "markdown",
   "metadata": {},
   "source": [
    "7. Now experiment with creating a violinplot, stripplot, and swarmplot using this same data. Then try adding an additional column using the \"hue\" variable. "
   ]
  },
  {
   "cell_type": "code",
   "execution_count": null,
   "metadata": {},
   "outputs": [],
   "source": []
  },
  {
   "cell_type": "code",
   "execution_count": null,
   "metadata": {},
   "outputs": [],
   "source": []
  },
  {
   "attachments": {},
   "cell_type": "markdown",
   "metadata": {},
   "source": [
    "## II. Correlation\n",
    "\n",
    "8. You can also use visualizations to help you see the relationship between different variables. For example, how do you suppose a passenger's age, \"sex\", passenger class correlated to their chances of surviving the Titanic disaster. We can use seaborn's **lmplot** to plot regression models. Try running the code below."
   ]
  },
  {
   "cell_type": "code",
   "execution_count": null,
   "metadata": {},
   "outputs": [],
   "source": [
    "sns.lmplot('age', 'survived', data=titanic, hue='pclass')"
   ]
  },
  {
   "attachments": {},
   "cell_type": "markdown",
   "metadata": {},
   "source": [
    "8b. Now, replace passenger class with \"sex.\""
   ]
  },
  {
   "cell_type": "code",
   "execution_count": null,
   "metadata": {},
   "outputs": [],
   "source": []
  },
  {
   "cell_type": "code",
   "execution_count": null,
   "metadata": {},
   "outputs": [],
   "source": []
  },
  {
   "attachments": {},
   "cell_type": "markdown",
   "metadata": {},
   "source": [
    "9. We can also create a heat map showing which variables most closely correlate with a passenger's survival. This requires some modification of our data, however, so we won't do that here. But to learn how to create such a heatmap, see: https://www.eamonfleming.com/projects/titanic.html."
   ]
  },
  {
   "cell_type": "code",
   "execution_count": null,
   "metadata": {},
   "outputs": [],
   "source": []
  },
  {
   "cell_type": "code",
   "execution_count": null,
   "metadata": {},
   "outputs": [],
   "source": []
  },
  {
   "cell_type": "code",
   "execution_count": null,
   "metadata": {},
   "outputs": [],
   "source": []
  },
  {
   "cell_type": "code",
   "execution_count": null,
   "metadata": {},
   "outputs": [],
   "source": []
  }
 ],
 "metadata": {
  "kernelspec": {
   "display_name": "Python 3 (ipykernel)",
   "language": "python",
   "name": "python3"
  },
  "language_info": {
   "codemirror_mode": {
    "name": "ipython",
    "version": 3
   },
   "file_extension": ".py",
   "mimetype": "text/x-python",
   "name": "python",
   "nbconvert_exporter": "python",
   "pygments_lexer": "ipython3",
   "version": "3.9.13"
  }
 },
 "nbformat": 4,
 "nbformat_minor": 2
}
