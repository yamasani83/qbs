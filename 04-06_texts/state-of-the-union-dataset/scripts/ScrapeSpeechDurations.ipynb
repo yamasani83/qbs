{
 "cells": [
  {
   "cell_type": "code",
   "execution_count": null,
   "id": "dff06d62-6e12-4622-9f71-aaa6bcb7ffed",
   "metadata": {},
   "outputs": [],
   "source": [
    "import pandas as pd\n",
    "\n",
    "# Get table from website\n",
    "df = pd.read_html(\"https://www.presidency.ucsb.edu/documents/presidential-documents-archive-guidebook/annual-messages-congress-the-state-the-union-0\")[0]\n",
    "df.columns = df.iloc[0]\n",
    "df = df[1:]\n",
    "\n",
    "# Drop rows not describing a SOTU\n",
    "df = df.drop(df[df.President.str.contains(\"NOT a \",na=False)].index)\n",
    "\n",
    "# Forward fill president names\n",
    "df.fillna(method=\"ffill\", inplace=True)\n",
    "\n",
    "# Remove the rows that contain aggregated data\n",
    "df = df.drop(df[df.Date.str.contains(\"average\")].index)\n",
    "\n",
    "# Only keep spoken speeches\n",
    "df = df[df.Format == 'spoken']\n",
    "\n",
    "# Replace approximations by the actual numbers\n",
    "df.Minutes.replace(r\"apx. ([0-9]+) min.\", r\"0:\\1:00\", regex=True, inplace=True)\n",
    "\n",
    "# Convert to seconds\n",
    "df[\"Seconds\"] = pd.to_timedelta(df.Minutes).dt.total_seconds()\n",
    "\n",
    "# Remove unused columns\n",
    "df.drop(columns=['Minutes', 'Format'], inplace=True)\n",
    "\n",
    "# Extract the year and make it the index\n",
    "df[['Month', 'Year']] = df.Date.str.split(',', expand=True)\n",
    "df = df.drop(columns=['Date', 'Month']).set_index('Year')\n",
    "df"
   ]
  },
  {
   "cell_type": "code",
   "execution_count": null,
   "id": "50fffb89",
   "metadata": {},
   "outputs": [],
   "source": [
    "# Write to file\n",
    "df.to_csv('speeches-meta.csv')"
   ]
  }
 ],
 "metadata": {
  "kernelspec": {
   "display_name": "Python 3.10.8 64-bit",
   "language": "python",
   "name": "python3"
  },
  "language_info": {
   "codemirror_mode": {
    "name": "ipython",
    "version": 3
   },
   "file_extension": ".py",
   "mimetype": "text/x-python",
   "name": "python",
   "nbconvert_exporter": "python",
   "pygments_lexer": "ipython3",
   "version": "3.10.8"
  },
  "vscode": {
   "interpreter": {
    "hash": "aee8b7b246df8f9039afb4144a1f6fd8d2ca17a180786b69acc140d282b71a49"
   }
  }
 },
 "nbformat": 4,
 "nbformat_minor": 5
}
