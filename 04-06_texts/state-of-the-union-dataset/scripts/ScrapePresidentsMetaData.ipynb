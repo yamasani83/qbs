{
 "cells": [
  {
   "cell_type": "code",
   "execution_count": null,
   "id": "8c5f946e-9fd0-4f19-b1f1-b774684adb4b",
   "metadata": {},
   "outputs": [],
   "source": [
    "import pandas as pd\n",
    "\n",
    "# Get table from Wikipedia\n",
    "df = pd.read_html(\"https://en.wikipedia.org/wiki/List_of_presidents_of_the_United_States\")[0]\n",
    "# Only a few columns are of interest to us\n",
    "df = df.iloc[:, [0, 2, 3, 5, 6, 7]]\n",
    "df.rename({\n",
    "    df.columns[0]: 'No',\n",
    "    df.columns[1]: 'Name',\n",
    "    df.columns[2]: 'Term',\n",
    "    df.columns[3]: 'Party',\n",
    "    df.columns[5]: 'Vice President'\n",
    "    }, axis='columns', inplace=True)\n",
    "df.set_index('No', inplace=True)\n",
    "df"
   ]
  },
  {
   "cell_type": "code",
   "execution_count": null,
   "id": "931a0c9d",
   "metadata": {},
   "outputs": [],
   "source": [
    "# Extract birth and death years from name \n",
    "df.insert(1, 'Birth', df.Name.str.extract(r'(?P<Birth>[0-9]{4})'))\n",
    "df.insert(2, 'Death', df.Name.str.extract(r'–(?P<Death>[0-9]{4})'))\n",
    "df.Name = df.Name.str.replace(r'\\s\\(.*', \"\", regex=True)\n",
    "df"
   ]
  },
  {
   "cell_type": "code",
   "execution_count": null,
   "id": "2970f56b",
   "metadata": {},
   "outputs": [],
   "source": [
    "# Split names into first and last names\n",
    "df[['First Name(s)', 'Last Name']] = df.Name.str.rsplit(n=1, expand=True)\n",
    "df.drop(columns='Name', inplace=True)\n",
    "df"
   ]
  },
  {
   "cell_type": "code",
   "execution_count": null,
   "id": "f011bff9-6ca0-4f80-9768-58818d4b584f",
   "metadata": {},
   "outputs": [],
   "source": [
    "# Clean up and split term dates\n",
    "df.Term = df.Term.str.replace(r'\\[.*\\]', \"\", regex=True)\n",
    "df[['Term Start', 'Term End']] = df.Term.str.split(' – ', expand=True)\n",
    "df['Term End'] = df['Term End'].replace('Incumbent', None)\n",
    "df.drop(columns='Term', inplace=True)\n",
    "df"
   ]
  },
  {
   "cell_type": "code",
   "execution_count": null,
   "id": "6511fcb8",
   "metadata": {},
   "outputs": [],
   "source": [
    "# Clean up party names\n",
    "df.Party = df.Party.str.replace(r'\\[.*\\]\\s', '\\n', regex=True).str.replace(r'\\[.*\\]', '', regex=True).str.replace(r'- ', '-', regex=True).str.split('\\n')\n",
    "df"
   ]
  },
  {
   "cell_type": "code",
   "execution_count": null,
   "id": "624ddeb2",
   "metadata": {},
   "outputs": [],
   "source": [
    "# Clean up elections\n",
    "df.Election = df.Election.str.split()\n",
    "df"
   ]
  },
  {
   "cell_type": "code",
   "execution_count": null,
   "id": "41890464",
   "metadata": {},
   "outputs": [],
   "source": [
    "# Clean up vice president\n",
    "df['Vice President'] = df['Vice President'].str.replace(r'\\[.*\\]', '', regex=True)\n",
    "df"
   ]
  },
  {
   "cell_type": "code",
   "execution_count": null,
   "id": "868e2d01",
   "metadata": {},
   "outputs": [],
   "source": [
    "# Reorder columns and save\n",
    "df = df[df.columns[[5, 6, 0, 1, 2, 7, 8, 3, 4 ]]]\n",
    "df.to_csv('presidents.csv')"
   ]
  }
 ],
 "metadata": {
  "kernelspec": {
   "display_name": "Python 3.10.8 64-bit",
   "language": "python",
   "name": "python3"
  },
  "language_info": {
   "codemirror_mode": {
    "name": "ipython",
    "version": 3
   },
   "file_extension": ".py",
   "mimetype": "text/x-python",
   "name": "python",
   "nbconvert_exporter": "python",
   "pygments_lexer": "ipython3",
   "version": "3.10.8"
  },
  "vscode": {
   "interpreter": {
    "hash": "aee8b7b246df8f9039afb4144a1f6fd8d2ca17a180786b69acc140d282b71a49"
   }
  }
 },
 "nbformat": 4,
 "nbformat_minor": 5
}
