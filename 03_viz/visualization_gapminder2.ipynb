{
 "cells": [
  {
   "attachments": {},
   "cell_type": "markdown",
   "metadata": {},
   "source": [
    "# Intro to Python 3: Visualization, Lesson II (Gapminder dataset)\n",
    "\n",
    "Please see the titanic notebook for an introduction to data visualization using **matplotlib** and **seaborn**.\n",
    "\n",
    "In this lesson, we will apply these two libraries to visualize data from the gapminder dataset.\n",
    "\n"
   ]
  },
  {
   "attachments": {},
   "cell_type": "markdown",
   "metadata": {},
   "source": [
    "1. First, we need to import the [**Pandas**, Python's data analysis library](https://pandas.pydata.org/) that allows us to work with dataframes. It is almost universal practice among Python users to import Pandas under the name \"pd\" to serve as a useful abbreviation we can use when calling Pandas functions. We will also import **pathlib** and **glob** to help us work with file paths."
   ]
  },
  {
   "cell_type": "code",
   "execution_count": null,
   "metadata": {},
   "outputs": [],
   "source": [
    "#working with dataframes\n",
    "import pandas as pd\n",
    "\n",
    "#working with file paths\n",
    "import pathlib, glob\n",
    "from pathlib import Path\n",
    "\n",
    "#visualization libraries\n",
    "import matplotlib.pyplot as plt\n",
    "import seaborn as sns\n",
    "import plotly_express as px"
   ]
  },
  {
   "attachments": {},
   "cell_type": "markdown",
   "metadata": {},
   "source": [
    "<h2>Data, Statistics... and Optimism?</h2>\n",
    "<img src=\"https://m.media-amazon.com/images/I/81KGpG+9mNL._RI_.jpg\" style=\"width:60%;\">\n",
    "\n",
    "\n",
    "2. Watch the famous video of Hans Rosling's Presentation with the Gapminder dataset: [\"200 Countries, 200 Years, 4 Minutes\"](https://www.youtube.com/watch?v=jbkSRLYSojo).\n",
    "\n",
    "<div class=\"alert alert-success\" role=\"alert\"><p style=\"color:green\">2b. What different visual variables does Rosling use to encode data? What data is encoded in those variables?</p></div>\n",
    "\n",
    "\n",
    "\n"
   ]
  },
  {
   "attachments": {},
   "cell_type": "markdown",
   "metadata": {},
   "source": []
  },
  {
   "attachments": {},
   "cell_type": "markdown",
   "metadata": {},
   "source": [
    "3. Now let's import this dataset. It is pre-loaded with the **Plotly Express** library, a visualization library we will get back to at the end of the lesson."
   ]
  },
  {
   "cell_type": "code",
   "execution_count": null,
   "metadata": {},
   "outputs": [],
   "source": [
    "gapminder_df = px.data.gapminder()\n",
    "# gapminder_path = Path(\"~/shared/RR-workshop-data/gapminder\").expanduser() \n",
    "#gapminder_csvpath = Path(gapminder_path, \"gapminder_all.csv\")\n",
    "#gapminder_df = pd.read_csv(gapminder_csvpath)"
   ]
  },
  {
   "attachments": {},
   "cell_type": "markdown",
   "metadata": {},
   "source": [
    "<div class=\"alert alert-success\" role=\"alert\"><p style=\"color:green\">4. Now, use the .head(), .describe(), .columns and other methods you learned in the previous lesson to review summary information about this dataset.</div></p>"
   ]
  },
  {
   "cell_type": "code",
   "execution_count": null,
   "metadata": {},
   "outputs": [],
   "source": []
  },
  {
   "cell_type": "code",
   "execution_count": null,
   "metadata": {},
   "outputs": [],
   "source": []
  },
  {
   "cell_type": "code",
   "execution_count": null,
   "metadata": {},
   "outputs": [],
   "source": []
  },
  {
   "cell_type": "code",
   "execution_count": null,
   "metadata": {},
   "outputs": [],
   "source": []
  },
  {
   "attachments": {},
   "cell_type": "markdown",
   "metadata": {},
   "source": [
    "<div class=\"alert alert-success\" role=\"alert\"><p style=\"color:green\">5. How would you go about recreating Hans Rosling's visualization for one year, 1952? What seaborn plot type would you use? </p></div>\n",
    "\n",
    "<div class=\"alert alert-success\" role=\"alert\"><p style=\"color:green\">What data would you place on your x and y axes? Create a plot with just this x and y info included.</p>\n",
    "\n",
    "<p style=\"color:green\"><i>Note: you will first want to subset the dataset to include only the data from 1952.</i></div>"
   ]
  },
  {
   "cell_type": "code",
   "execution_count": null,
   "metadata": {},
   "outputs": [],
   "source": []
  },
  {
   "attachments": {},
   "cell_type": "markdown",
   "metadata": {},
   "source": [
    "<div class=\"alert alert-success\" role=\"alert\"><p style=\"color:green\">5b. Now re-create the same graph, but this time with data for 1957.</p></div>"
   ]
  },
  {
   "cell_type": "code",
   "execution_count": null,
   "metadata": {},
   "outputs": [],
   "source": [
    "\n"
   ]
  },
  {
   "attachments": {},
   "cell_type": "markdown",
   "metadata": {},
   "source": [
    "6. Notice the strange outlier on the far right of the plots above? We can subset or filter our dataset to identify it in several ways:"
   ]
  },
  {
   "cell_type": "code",
   "execution_count": null,
   "metadata": {},
   "outputs": [],
   "source": [
    "gapminder_df[(gapminder_df['year'] == 1957) & (gapminder_df['gdpPercap'] > 100000)]\n",
    "#gapminder_df.loc[(gapminder_df['year'] == 1957) & (gapminder_df['gdpPercap'] > 100000)]   #this works the same!"
   ]
  },
  {
   "attachments": {},
   "cell_type": "markdown",
   "metadata": {},
   "source": [
    "7. We can also identify outliers by adding labels. This code gets slightly more complicated, but notice it is the **plt.annotate** command that adds the label of each country within a **for loop** that iterates through a list of countries in the dataset."
   ]
  },
  {
   "cell_type": "code",
   "execution_count": null,
   "metadata": {},
   "outputs": [],
   "source": [
    "gap1957.head()"
   ]
  },
  {
   "cell_type": "code",
   "execution_count": null,
   "metadata": {},
   "outputs": [],
   "source": [
    "sns.scatterplot(data = gap1957, x = \"gdpPercap\", y = \"lifeExp\")\n",
    "countries = list(gap1957['country'])\n",
    "for i, country in enumerate(countries):\n",
    "    #print(i, country, gap1957.iloc[i, 5])\n",
    "    plt.annotate(country, (gap1957.iloc[i, 5], gap1957.iloc[i, 3]))"
   ]
  },
  {
   "attachments": {},
   "cell_type": "markdown",
   "metadata": {},
   "source": [
    "7b. We can also annotate a single country with the following:\n",
    "\n",
    "*Note: there may be an easier way of doing this....*"
   ]
  },
  {
   "cell_type": "code",
   "execution_count": null,
   "metadata": {},
   "outputs": [],
   "source": [
    "sns.scatterplot(data = gap1957, x = \"gdpPercap\", y = \"lifeExp\")\n",
    "kuwait = gap1957[gap1957['country'] == \"Kuwait\"]\n",
    "plt.annotate(\"Kuwait\", (kuwait.loc[:,'gdpPercap'], kuwait.loc[:,\"lifeExp\"]))"
   ]
  },
  {
   "attachments": {},
   "cell_type": "markdown",
   "metadata": {},
   "source": [
    "8. We can then remove this outlier from our dataset."
   ]
  },
  {
   "cell_type": "code",
   "execution_count": null,
   "metadata": {},
   "outputs": [],
   "source": [
    "print(gapminder_df.shape)\n",
    "gapminder_df = gapminder_df[gapminder_df['country'] != \"Kuwait\"]\n",
    "print(gapminder_df.shape)"
   ]
  },
  {
   "attachments": {},
   "cell_type": "markdown",
   "metadata": {},
   "source": [
    "9. Now, let's plot a series of years from our dataset. We can more easily plot different years using a formatted string. A formatted string allows us to insert variables into a string, from which Python will read the variables' values.\n",
    "\n",
    "Formatted strings are indicated by the \"f\" that precedes the opening quotation mark and variable names are indicated by the quotation marks surrounding them:\n",
    "\n",
    "```\n",
    "f\"This is a sentence with a {variable}.\"\n",
    "```\n",
    "\n",
    "For example, we could use formatted strings to update today's date by writing:\n",
    "\n"
   ]
  },
  {
   "cell_type": "code",
   "execution_count": null,
   "metadata": {},
   "outputs": [],
   "source": [
    "mon = \"April\"\n",
    "date = 25\n",
    "year = 2023\n",
    "f\"Hello, today's date is {mon} {date}, {year}.\" "
   ]
  },
  {
   "attachments": {},
   "cell_type": "markdown",
   "metadata": {},
   "source": [
    "Try updating the date above and see how the output changes.\n",
    "\n",
    "10. Now, let's use formatted strings to quickly change the year of our plot."
   ]
  },
  {
   "cell_type": "code",
   "execution_count": null,
   "metadata": {},
   "outputs": [],
   "source": [
    "yr = 1997\n",
    "sns.scatterplot(data = gapminder_df[gapminder_df['year'] == yr], x = \"gdpPercap\", y = \"lifeExp\")"
   ]
  },
  {
   "attachments": {},
   "cell_type": "markdown",
   "metadata": {},
   "source": [
    "<div class=\"alert alert-success\" role=\"alert\"><p style=\"color:green\">11. Do you notice the nonlinear pattern in this data, which did not appear in Hans Rosling's animated visualization? That is because he used the logarithmic values of GDP per capita. Copy and paste the above code below, but this time adding the following line after it:</p></div>\n",
    "\n",
    "```\n",
    "plt.xscale('log')\n",
    "```\n",
    "\n",
    "<div class=\"alert alert-success\" role=\"alert\"><p style=\"color:green\"><b>Experiment with the code below by changing the year value.</b></p></div>"
   ]
  },
  {
   "cell_type": "code",
   "execution_count": null,
   "metadata": {},
   "outputs": [],
   "source": []
  },
  {
   "attachments": {},
   "cell_type": "markdown",
   "metadata": {},
   "source": [
    "<div class=\"alert alert-success\" role=\"alert\"><p style=\"color:green\">12. We can then differentiate countries by their continent. To color each observation by the \"continent\" column add the following to the code above (you can paste it below).</p></div>\n",
    "\n",
    "```\n",
    "..., hue = \"continent\"...)\n",
    "```"
   ]
  },
  {
   "cell_type": "code",
   "execution_count": null,
   "metadata": {},
   "outputs": [],
   "source": []
  },
  {
   "attachments": {},
   "cell_type": "markdown",
   "metadata": {},
   "source": [
    "<div class=\"alert alert-success\" role=\"alert\"><p style=\"color:green\">13. We can also resize each point to represent the population of each country. Copy and paste the above code below and then set a <b>size</b> argument to the appropriate population column.</p></div>"
   ]
  },
  {
   "cell_type": "code",
   "execution_count": null,
   "metadata": {},
   "outputs": [],
   "source": []
  },
  {
   "attachments": {},
   "cell_type": "markdown",
   "metadata": {},
   "source": [
    "<div class=\"alert alert-success\" role=\"alert\"><p style=\"color:green\">14. To greater differentiate between small and large countries, add a range of sizes like so:</p></div>\n",
    "\n",
    "```\n",
    ", sizes = (20, 600)\n",
    "\n",
    "```\n",
    "\n",
    "<div class=\"alert alert-success\" role=\"alert\"><p style=\"color:green\"><i>If you were preparing this graph for publication, you would want to think carefully about how you want to proportionally size each circle. The general recommendation is that a value that is twice the size of another should be represented by a circle with twice the **area** not twice the **diameter** of the other. But, for this example, we are just concerned with placing countries of different population size on an observable spectrum.</i></p></div>"
   ]
  },
  {
   "cell_type": "code",
   "execution_count": null,
   "metadata": {},
   "outputs": [],
   "source": []
  },
  {
   "attachments": {},
   "cell_type": "markdown",
   "metadata": {},
   "source": [
    "<div class=\"alert alert-success\" role=\"alert\"><p style=\"color:green\">14. We can adjust the transparency of the circles to make overlapping circles more visible. We can do that using the <b>alpha</b> argument or paremeter. Add:</p></div>\n",
    "\n",
    "```\n",
    "alpha = 0.5,\n",
    "```\n",
    "\n",
    "<div class=\"alert alert-success\" role=\"alert\"><p style=\"color:green\">Then feel free to adjust that value to see what looks the best (between 0.0 [invisible] and 1.0 [completely solid]).</p></div>"
   ]
  },
  {
   "cell_type": "code",
   "execution_count": null,
   "metadata": {},
   "outputs": [],
   "source": []
  },
  {
   "cell_type": "code",
   "execution_count": null,
   "metadata": {},
   "outputs": [],
   "source": []
  },
  {
   "attachments": {},
   "cell_type": "markdown",
   "metadata": {},
   "source": [
    "## II. Adding a fourth dimension\n",
    "\n",
    "15. So far we have graphed the following variables\n",
    "+ country (circles)\n",
    "+ continent (color of circles)\n",
    "+ gdp per capita for each country (x)\n",
    "+ life expectancy for each country (y)\n",
    "\n",
    "However, we have done so only one year at a time. How can we graph changes in these data over time?\n",
    "\n",
    "There are two principal ways to do this:\n",
    "1. create small multiple plots, one for each year (good for print)\n",
    "2. create an animated graph (great for the web)\n",
    "\n",
    "<!--Before, we do that, however, we need to transform our dataset from a \"wide\" dataframe to a \"long\" dataframe to allow us to visualize all years at once (rather than one year at a time).\n",
    "\n",
    "Our wide dataframe looks like this:-->"
   ]
  },
  {
   "cell_type": "code",
   "execution_count": null,
   "metadata": {},
   "outputs": [],
   "source": [
    "gapminder_df.head()"
   ]
  },
  {
   "attachments": {},
   "cell_type": "markdown",
   "metadata": {},
   "source": [
    "### IIb. Creating small multiples"
   ]
  },
  {
   "attachments": {},
   "cell_type": "markdown",
   "metadata": {},
   "source": [
    "23. Most data visualization packages allow you to create multiple small version of a graph, each one representing a different subset of the data, using what are often called **facets**. We can use Seaborn [FacetGrid](https://seaborn.pydata.org/generated/seaborn.FacetGrid.html) or [relplot](https://seaborn.pydata.org/generated/seaborn.relplot.html) to accomplish this."
   ]
  },
  {
   "cell_type": "code",
   "execution_count": null,
   "metadata": {},
   "outputs": [],
   "source": [
    "g = sns.FacetGrid(data = gapminder_df, col=\"year\", col_wrap = 3, hue = \"continent\")\n",
    "g.map(sns.scatterplot, \"gdpPercap\", \"lifeExp\")\n",
    "plt.xscale('log')"
   ]
  },
  {
   "attachments": {},
   "cell_type": "markdown",
   "metadata": {},
   "source": [
    "24. Here is the same thing, but using **relplot** with some additional parameters (setting the transparency with \"alpha\" and the size of each marker)."
   ]
  },
  {
   "cell_type": "code",
   "execution_count": null,
   "metadata": {},
   "outputs": [],
   "source": [
    "sns.relplot(data = gapminder_df, x = \"gdpPercap\", y = \"lifeExp\", size = \"pop\", hue = \"continent\",\\\n",
    "            col = \"year\", col_wrap = 3, \\\n",
    "                sizes = (40, 1000), alpha = 0.5)\n",
    "plt.xscale('log')"
   ]
  },
  {
   "attachments": {},
   "cell_type": "markdown",
   "metadata": {},
   "source": [
    "### IIc. Creating Animated Graphs with Plotly\n",
    "\n",
    "25. An even better way to add time as a fourth dimension is by creating an animated graphic. We can do that using the [Plotly library](https://plotly.com/python/). Below, however, we will use [Plotly Express](https://plotly.com/python/plotly-express/), which is a simplified, easier-to-use version of Plotly.\n",
    "\n",
    "https://towardsdatascience.com/recreating-gapminder-animation-in-2-lines-of-python-with-plotly-express-2060c73bedec"
   ]
  },
  {
   "cell_type": "code",
   "execution_count": null,
   "metadata": {},
   "outputs": [],
   "source": []
  },
  {
   "attachments": {},
   "cell_type": "markdown",
   "metadata": {},
   "source": [
    "27. Plotly Express's **scatter** function is similar to Seaborn's **scatterplot**. Important new parameters include **animation_frame**, **animation_group**, and **hover_name**."
   ]
  },
  {
   "cell_type": "code",
   "execution_count": null,
   "metadata": {},
   "outputs": [],
   "source": [
    "px.scatter(gapminder_df, x=\"gdpPercap\", y=\"lifeExp\", animation_frame=\"year\", animation_group=\"country\",\n",
    "           size=\"pop\", color=\"continent\", hover_name=\"country\", \n",
    "           log_x = True, \n",
    "           size_max=45, range_x=[100,100000], range_y=[25,90])"
   ]
  },
  {
   "cell_type": "code",
   "execution_count": null,
   "metadata": {},
   "outputs": [],
   "source": []
  },
  {
   "cell_type": "code",
   "execution_count": null,
   "metadata": {},
   "outputs": [],
   "source": [
    "gapminder_df.head()"
   ]
  },
  {
   "attachments": {},
   "cell_type": "markdown",
   "metadata": {},
   "source": [
    "## Appendix: Other Visualizations of the Gapminder Dataset"
   ]
  },
  {
   "attachments": {},
   "cell_type": "markdown",
   "metadata": {},
   "source": [
    "We can also create simple plots, with far less data, through aggregation. For example, we can create a line plot after aggregating per capita GDP by continent."
   ]
  },
  {
   "cell_type": "code",
   "execution_count": null,
   "metadata": {},
   "outputs": [],
   "source": [
    "sns.lineplot(data = gapminder_df, x = 'year', y = 'gdpPercap', hue = 'continent')"
   ]
  },
  {
   "cell_type": "code",
   "execution_count": null,
   "metadata": {},
   "outputs": [],
   "source": [
    "gap_usa = gapminder_df.loc[(gapminder_df['country'] == \"United States\")] #& (gm_long['variable'].str.slice(0,3) == \"gdp\")]\n",
    "gap_usa"
   ]
  },
  {
   "cell_type": "code",
   "execution_count": null,
   "metadata": {},
   "outputs": [],
   "source": [
    "sns.lineplot(data = gap_usa, x = 'year', y = 'gdpPercap')"
   ]
  },
  {
   "attachments": {},
   "cell_type": "markdown",
   "metadata": {},
   "source": [
    "We can also separate each line into facets:"
   ]
  },
  {
   "cell_type": "code",
   "execution_count": null,
   "metadata": {},
   "outputs": [],
   "source": [
    "sns.relplot(data = gapminder_df, x=\"year\", y=\"gdpPercap\", kind = \"line\", linewidth = 4, \\\n",
    "            hue = \"continent\", \\\n",
    "                col = \"continent\",\\\n",
    "                    ci = None, \\\n",
    "                    col_wrap = 3, height = 3, aspect = 1.2, legend = False,\\\n",
    "                    palette = \"colorblind\"   #https://seaborn.pydata.org/tutorial/color_palettes.html\n",
    "                        )"
   ]
  },
  {
   "cell_type": "code",
   "execution_count": null,
   "metadata": {},
   "outputs": [],
   "source": []
  },
  {
   "attachments": {},
   "cell_type": "markdown",
   "metadata": {},
   "source": []
  }
 ],
 "metadata": {
  "kernelspec": {
   "display_name": "Python 3 (ipykernel)",
   "language": "python",
   "name": "python3"
  },
  "language_info": {
   "codemirror_mode": {
    "name": "ipython",
    "version": 3
   },
   "file_extension": ".py",
   "mimetype": "text/x-python",
   "name": "python",
   "nbconvert_exporter": "python",
   "pygments_lexer": "ipython3",
   "version": "3.9.13"
  }
 },
 "nbformat": 4,
 "nbformat_minor": 2
}
